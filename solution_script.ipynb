{
 "cells": [
  {
   "cell_type": "code",
   "execution_count": 4,
   "id": "6db8d587",
   "metadata": {},
   "outputs": [],
   "source": [
    "import findspark\n",
    "findspark.init()\n",
    "\n",
    "from pprint import pprint\n",
    "\n",
    "from pyspark.sql import SparkSession\n",
    "from pyspark.sql.functions import col\n",
    "\n",
    "\n",
    "spark = SparkSession.builder \\\n",
    "    .master(\"local\") \\\n",
    "    .appName(\"SparkApp\") \\\n",
    "    .getOrCreate()"
   ]
  },
  {
   "cell_type": "code",
   "execution_count": 8,
   "id": "23b59afb",
   "metadata": {},
   "outputs": [
    {
     "name": "stdout",
     "output_type": "stream",
     "text": [
      "22\n",
      "+-----------+------------+------------+\n",
      "|   username|airport_code|time_visited|\n",
      "+-----------+------------+------------+\n",
      "|alphabeta_1|         ATL|  1629254806|\n",
      "|alphabeta_1|         ATL|  1629254807|\n",
      "|alphabeta_1|         ATL|  1629254808|\n",
      "|alphabeta_1|         ORD|  1629254801|\n",
      "|alphabeta_1|         ORD|  1629254802|\n",
      "|alphabeta_1|         ORD|  1629254803|\n",
      "|alphabeta_1|         ORD|  1629254804|\n",
      "|alphabeta_1|         CDG|  1629254806|\n",
      "|alphabeta_2|         ATL|  1629254806|\n",
      "|alphabeta_2|         ATL|  1629254807|\n",
      "|alphabeta_2|         ATL|  1629254808|\n",
      "|alphabeta_2|         ORD|  1629254801|\n",
      "|alphabeta_2|         ORD|  1629254802|\n",
      "|alphabeta_2|         ORD|  1629254803|\n",
      "|alphabeta_2|         ORD|  1629254804|\n",
      "|alphabeta_2|         CDG|  1629254806|\n",
      "|alphabeta_2|         DUS|  1629254816|\n",
      "|alphabeta_2|         DUS|  1629254817|\n",
      "|alphabeta_2|         HGH|  1629254804|\n",
      "|alphabeta_2|         HGH|  1629254806|\n",
      "+-----------+------------+------------+\n",
      "only showing top 20 rows\n",
      "\n"
     ]
    }
   ],
   "source": [
    "df = spark.read.format('csv') \\\n",
    "    .option('header',True) \\\n",
    "    .load('data.csv')\n",
    "\n",
    "print(df.count())\n",
    "\n",
    "df.show()"
   ]
  },
  {
   "cell_type": "code",
   "execution_count": 9,
   "id": "53502ca5",
   "metadata": {},
   "outputs": [
    {
     "name": "stderr",
     "output_type": "stream",
     "text": [
      "                                                                                \r"
     ]
    },
    {
     "name": "stdout",
     "output_type": "stream",
     "text": [
      "Current Username:  alphabeta_1\n",
      "Airport code & Number of visits\n"
     ]
    },
    {
     "name": "stderr",
     "output_type": "stream",
     "text": [
      "                                                                                \r"
     ]
    },
    {
     "name": "stdout",
     "output_type": "stream",
     "text": [
      "+------------+-----+\n",
      "|airport_code|count|\n",
      "+------------+-----+\n",
      "|         CDG|    1|\n",
      "|         ATL|    3|\n",
      "|         ORD|    4|\n",
      "+------------+-----+\n",
      "\n",
      "Iterating unique airport codes to fetch latest time_visited\n"
     ]
    },
    {
     "name": "stderr",
     "output_type": "stream",
     "text": [
      "                                                                                \r"
     ]
    },
    {
     "name": "stdout",
     "output_type": "stream",
     "text": [
      "Current Username:  alphabeta_2\n",
      "Airport code & Number of visits\n"
     ]
    },
    {
     "name": "stderr",
     "output_type": "stream",
     "text": [
      "                                                                                \r"
     ]
    },
    {
     "name": "stdout",
     "output_type": "stream",
     "text": [
      "+------------+-----+\n",
      "|airport_code|count|\n",
      "+------------+-----+\n",
      "|         CDG|    1|\n",
      "|         DUS|    2|\n",
      "|         ATL|    3|\n",
      "|         ORD|    4|\n",
      "|         HGH|    4|\n",
      "+------------+-----+\n",
      "\n",
      "Iterating unique airport codes to fetch latest time_visited\n"
     ]
    },
    {
     "name": "stderr",
     "output_type": "stream",
     "text": [
      "                                                                                \r"
     ]
    },
    {
     "name": "stdout",
     "output_type": "stream",
     "text": [
      "Complete Data Ouput\n",
      "[['alphabeta_1', 'CDG', '1629254806'],\n",
      " ['alphabeta_1', 'ATL', '1629254808'],\n",
      " ['alphabeta_1', 'ORD', '1629254804'],\n",
      " ['alphabeta_2', 'CDG', '1629254806'],\n",
      " ['alphabeta_2', 'DUS', '1629254817'],\n",
      " ['alphabeta_2', 'ATL', '1629254808'],\n",
      " ['alphabeta_2', 'ORD', '1629254804'],\n",
      " ['alphabeta_2', 'HGH', '1629254817']]\n"
     ]
    }
   ],
   "source": [
    "data = []\n",
    "\n",
    "unique_usernames = df.dropDuplicates(['username'])\n",
    "for row in unique_usernames.collect():\n",
    "    current_username = row['username']\n",
    "    print(\"Current Username: \", current_username)\n",
    "    \n",
    "    df1 = df.filter(col('username') == current_username).groupBy(\"airport_code\").count().orderBy(\"count\").select(\"*\").limit(5)\n",
    "    \n",
    "    print(\"Airport code & Number of visits\")\n",
    "    df1.show()\n",
    "    \n",
    "    print(\"Iterating unique airport codes to fetch latest time_visited\")\n",
    "    for row1 in df1.collect():\n",
    "        df2 = df.filter((col('username') == current_username) & (col('airport_code') == row1['airport_code'])).orderBy(\"time_visited\", ascending=False).select(\"*\").limit(1).collect()\n",
    "        data.append([current_username, df2[0]['airport_code'], df2[0]['time_visited']])\n",
    "\n",
    "print(\"Complete Data Ouput\")\n",
    "pprint(data)"
   ]
  }
 ],
 "metadata": {
  "kernelspec": {
   "display_name": "Python 3 (ipykernel)",
   "language": "python",
   "name": "python3"
  },
  "language_info": {
   "codemirror_mode": {
    "name": "ipython",
    "version": 3
   },
   "file_extension": ".py",
   "mimetype": "text/x-python",
   "name": "python",
   "nbconvert_exporter": "python",
   "pygments_lexer": "ipython3",
   "version": "3.9.1"
  }
 },
 "nbformat": 4,
 "nbformat_minor": 5
}
